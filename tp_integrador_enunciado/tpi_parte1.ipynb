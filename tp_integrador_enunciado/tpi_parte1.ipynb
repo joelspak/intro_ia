{
  "cells": [
    {
      "attachments": {},
      "cell_type": "markdown",
      "id": "07289bb0",
      "metadata": {},
      "source": [
        "# Trabajo integrador - Parte 1\n",
        "## Python y Numpy\n",
        "\n",
        "**Nombre**: Joel Spak"
      ]
    },
    {
      "cell_type": "code",
      "execution_count": 1,
      "id": "aaf94e0a",
      "metadata": {
        "id": "aaf94e0a"
      },
      "outputs": [],
      "source": [
        "import numpy as np"
      ]
    },
    {
      "attachments": {},
      "cell_type": "markdown",
      "id": "0ffe9554",
      "metadata": {},
      "source": [
        "## Ejercicio 1\n",
        "\n",
        "Dada una matriz en formato *numpy array*, donde cada fila de la matriz representa un vector matemático, se requiere computar las normas $l_0$, $l_1$, $l_2$, $l_{\\infty}$, según la siguientes definiciones:\n",
        "\n",
        "\\begin{equation}\n",
        "    ||\\mathbf{x}||^{p} = \\bigg(\\sum_{j=1}^{n}{|x_i|^p}\\bigg)^{\\frac{1}{p}}\n",
        "\\end{equation}\n",
        "\n",
        "con los casos especiales para $p=0$ y $p=\\infty$ siendo:\n",
        "\n",
        "\\begin{equation}\n",
        "    \\begin{array}{rcl}\n",
        "        ||\\mathbf{x}||_0 & = & \\bigg(\\sum_{j=1 \\wedge x_j != 0}{|x_i|}\\bigg)\\\\\n",
        "        ||\\mathbf{x}||_{\\infty} & = & \\max_{i}{|x_i|}\\\\\n",
        "    \\end{array}\n",
        "\\end{equation}"
      ]
    },
    {
      "cell_type": "code",
      "execution_count": 7,
      "id": "0bdb0ee3",
      "metadata": {},
      "outputs": [
        {
          "name": "stdout",
          "output_type": "stream",
          "text": [
            "Norma L0: 16\n",
            "Norma L1: 136\n",
            "Norma L2: 38.67815921162743\n",
            "Norma L∞: 16\n"
          ]
        }
      ],
      "source": [
        "matriz = np.array([[1, 2, 3, 4],\n",
        "                   [5, 6, 7, 8],\n",
        "                   [9, 10, 11, 12],\n",
        "                   [13, 14, 15, 16]])\n",
        "\n",
        "n_l0 = np.count_nonzero(matriz)\n",
        "print(\"Norma L0:\", n_l0)\n",
        "\n",
        "n_l1 = np.sum(np.abs(matriz))\n",
        "print(\"Norma L1:\", n_l1)\n",
        "\n",
        "n_l2 = np.linalg.norm(matriz)\n",
        "print(\"Norma L2:\", n_l2)\n",
        "\n",
        "n_linf = np.max(np.abs(matriz))\n",
        "print(\"Norma L∞:\", n_linf)"
      ]
    },
    {
      "attachments": {},
      "cell_type": "markdown",
      "id": "dd66d862",
      "metadata": {},
      "source": [
        "## Ejercicio 2\n",
        "\n",
        "En clasificación contamos con dos arreglos, la “verdad” y la “predicción”. Cada elemento de los arreglos pueden tomar dos valores, “True” (representado por 1) y “False” (representado por 0). Entonces podemos definir 4 variables:\n",
        "\n",
        "* True Positive (TP): El valor verdadero es 1 y el valor predicho es 1\n",
        "* True Negative (TN): El valor verdadero es 0 y el valor predicho es 0\n",
        "* False Positive (FP): El valor verdadero es 0 y el valor predicho es 1\n",
        "* False Negative (FN): El valor verdadero es 1 y el valor predicho es 0\n",
        "\n",
        "A partir de esto definimos:\n",
        "\n",
        "* Precision = TP / (TP + FP)\n",
        "* Recall = TP / (TP + FN)\n",
        "* Accuracy = (TP + TN) / (TP + TN + FP + FN)\n",
        " \n",
        "Calcular las 3 métricas con Numpy y operaciones vectorizadas."
      ]
    },
    {
      "cell_type": "code",
      "execution_count": 8,
      "id": "794dcd58",
      "metadata": {},
      "outputs": [
        {
          "name": "stdout",
          "output_type": "stream",
          "text": [
            "Precisión: 0.5\n",
            "Recall: 0.5\n",
            "Accuracy: 0.6\n"
          ]
        }
      ],
      "source": [
        "truth = np.array([1,1,0,1,1,1,0,0,0,1])\n",
        "prediction = np.array([1,1,1,1,0,0,1,1,0,0])\n",
        "\n",
        "tp = np.sum((truth == 1) & (prediction == 1))\n",
        "tn = np.sum((truth == 0) & (prediction == 0))\n",
        "fp = np.sum((truth == 0) & (prediction == 1))\n",
        "fn = np.sum((truth == 1) & (prediction == 0))\n",
        "\n",
        "precision = tp/(tp+fp)\n",
        "recall = tp/(tp+fn)\n",
        "accuracy=(tp+fn)/(tp+tn+fp+fn)\n",
        "\n",
        "print(\"Precisión:\", precision)\n",
        "print(\"Recall:\", recall)\n",
        "print(\"Accuracy:\", accuracy)"
      ]
    },
    {
      "attachments": {},
      "cell_type": "markdown",
      "id": "d0ac6f6f",
      "metadata": {},
      "source": [
        "## Ejercicio 3\n",
        "\n",
        "Crear una función que separe los datos en train-validation-test. Debe recibir de parametros:\n",
        "\n",
        "- X: Array o Dataframe que contiene los datos de entrada del sistema.\n",
        "- y: Array o Dataframe que contiene la(s) variable(s) target del problema.\n",
        "- train_percentage: _float_ el porcentaje de training.\n",
        "- test_percentage: _float_ el porcentaje de testing.\n",
        "- val_percentage: _float_ el porcentaje de validación.\n",
        "- shuffle: _bool_ determina si el split debe hacerse de manera random o no.\n",
        "\n",
        "Hints: \n",
        "\n",
        "* Usar Indexing y slicing\n",
        "* Usar np.random.[...]"
      ]
    },
    {
      "cell_type": "code",
      "execution_count": 13,
      "id": "ca85fc66",
      "metadata": {},
      "outputs": [
        {
          "data": {
            "text/plain": [
              "(array([1, 2, 3, 4, 5, 6, 7, 8]),\n",
              " array([ 7,  8,  9, 10, 11, 12, 13, 14]),\n",
              " array([9]),\n",
              " array([15]),\n",
              " array([10]),\n",
              " array([16]))"
            ]
          },
          "execution_count": 13,
          "metadata": {},
          "output_type": "execute_result"
        }
      ],
      "source": [
        "def split(X_input,\n",
        "          Y_input,\n",
        "          train_size=0.7,\n",
        "          val_size=0.15,\n",
        "          test_size=0.15,\n",
        "          random_state=42,\n",
        "          shuffle=True):\n",
        "      \n",
        "      # chequeo que sumen 1 los sizes\n",
        "      if train_size + val_size + test_size != 1.0:\n",
        "        raise ValueError(\"Las proporciones de división deben sumar 1.0\")\n",
        "    \n",
        "      largo_total = X_input.shape[0]\n",
        "    \n",
        "      if shuffle:\n",
        "            np.random.seed(random_state)\n",
        "            indices = np.random.permutation(largo_total)\n",
        "      else:\n",
        "            indices = np.arange(largo_total)\n",
        "      \n",
        "      train_end = int(train_size * largo_total)\n",
        "      val_end = train_end + int(val_size * largo_total)\n",
        "      \n",
        "      X_train = X_input[indices[:train_end]]\n",
        "      Y_train = Y_input[indices[:train_end]]\n",
        "      \n",
        "      X_val = X_input[indices[train_end:val_end]]\n",
        "      Y_val = Y_input[indices[train_end:val_end]]\n",
        "      \n",
        "      X_test = X_input[indices[val_end:]]\n",
        "      Y_test = Y_input[indices[val_end:]]\n",
        "      \n",
        "      return X_train, Y_train, X_val, Y_val, X_test, Y_test\n",
        "\n",
        "\n",
        "X=np.array([1,2,3,4,5,6,7,8,9,10])\n",
        "y=np.array([7,8,9,10,11,12,13,14,15,16])\n",
        "\n",
        "split(X,y,0.8,0.1,0.1,shuffle=False)"
      ]
    },
    {
      "cell_type": "code",
      "execution_count": 14,
      "id": "8b0150ca",
      "metadata": {},
      "outputs": [
        {
          "data": {
            "text/plain": [
              "(array([ 9,  2,  6,  1,  8,  3, 10,  5]),\n",
              " array([15,  8, 12,  7, 14,  9, 16, 11]),\n",
              " array([4]),\n",
              " array([10]),\n",
              " array([7]),\n",
              " array([13]))"
            ]
          },
          "execution_count": 14,
          "metadata": {},
          "output_type": "execute_result"
        }
      ],
      "source": [
        "split(X,y,0.8,0.1,0.1,shuffle=True)"
      ]
    }
  ],
  "metadata": {
    "colab": {
      "collapsed_sections": [],
      "name": "Practica_clase_3.ipynb",
      "provenance": []
    },
    "kernelspec": {
      "display_name": "Python 3.10.7 64-bit",
      "language": "python",
      "name": "python3"
    },
    "language_info": {
      "codemirror_mode": {
        "name": "ipython",
        "version": 3
      },
      "file_extension": ".py",
      "mimetype": "text/x-python",
      "name": "python",
      "nbconvert_exporter": "python",
      "pygments_lexer": "ipython3",
      "version": "3.11.4"
    },
    "vscode": {
      "interpreter": {
        "hash": "b5c22da4a52024410f64f9c5a5e2b4ffeeb944a5ed00e8825a42174cdab30315"
      }
    }
  },
  "nbformat": 4,
  "nbformat_minor": 5
}
